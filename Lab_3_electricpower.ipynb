{
 "cells": [
  {
   "cell_type": "code",
   "execution_count": 2,
   "metadata": {},
   "outputs": [],
   "source": [
    "import matplotlib.pyplot as plt\n",
    "import pandas as pd\n",
    "import numpy as np"
   ]
  },
  {
   "cell_type": "code",
   "execution_count": 121,
   "metadata": {},
   "outputs": [],
   "source": [
    "############################## Your code for loading and preprocess the data ##\n",
    "\n",
    "def CovertDataType(line):\n",
    "    line[0] = pd.to_datetime(line[0] + \" \" + line[1], format='%d/%m/%Y %H:%M:%S')\n",
    "    for i in range (len(line) - 2):\n",
    "        line[i+1]= pd.to_numeric(line[i+2])\n",
    "    line.pop(len(line) - 1)\n",
    "    return line\n",
    "\n",
    "data = []\n",
    "with open(\"household_power_consumption.txt\",\"r\") as file_in:\n",
    "    lines = []\n",
    "    for line in file_in:\n",
    "        line_split = line.strip().split(\";\")\n",
    "        if line_split[0] == \"1/2/2007\" or line_split[0] == \"2/2/2007\":\n",
    "            data.append(CovertDataType(line_split))\n",
    "\n",
    "df = pd.DataFrame(data, columns = ['DateTime', 'Global active power', 'Global reactive power', 'Voltage', \n",
    "                                    'Global intensity', 'Sub metering 1', 'Sub metering 2', 'Sub metering 3'])\n",
    "df.set_index('DateTime', inplace = True)"
   ]
  },
  {
   "cell_type": "code",
   "execution_count": 130,
   "metadata": {},
   "outputs": [],
   "source": [
    "############################ Complete the following 4 functions ###############\n",
    "\n",
    "def plot1():\n",
    "    plt.subplots(1, 1, figsize =(10, 10), tight_layout = True)\n",
    "    plt.hist((df['Global active power']), bins=15, color='r', edgecolor = \"black\", linewidth = 1)\n",
    "    plt.title('Global Active Power')\n",
    "    plt.ylabel('Frequency')\n",
    "    plt.xlabel('Global active power (kilowatts)')\n",
    "    plt.savefig('./Figures/plot1.png')   # save the figure to file\n",
    "    plt.close()\n",
    "\n",
    "plot1()\n"
   ]
  },
  {
   "cell_type": "code",
   "execution_count": 131,
   "metadata": {},
   "outputs": [],
   "source": [
    "def plot2():\n",
    "    plt.subplots(1, 1, figsize =(10, 10), tight_layout = True)\n",
    "    df1 = df['Global active power']\n",
    "    df1.plot()\n",
    "    plt.xlabel('')\n",
    "    plt.ylabel('Global active power (kilowatts)')\n",
    "    plt.savefig('./Figures/plot2.png')   # save the figure to file\n",
    "    plt.close()\n",
    "\n",
    "plot2()\n"
   ]
  },
  {
   "cell_type": "code",
   "execution_count": null,
   "metadata": {},
   "outputs": [],
   "source": [
    "def plot3():\n",
    "    pass\n",
    "\n"
   ]
  },
  {
   "cell_type": "code",
   "execution_count": null,
   "metadata": {},
   "outputs": [],
   "source": []
  },
  {
   "cell_type": "code",
   "execution_count": null,
   "metadata": {},
   "outputs": [],
   "source": [
    "def plot4():\n",
    "    pass"
   ]
  },
  {
   "cell_type": "code",
   "execution_count": null,
   "metadata": {},
   "outputs": [],
   "source": []
  }
 ],
 "metadata": {
  "interpreter": {
   "hash": "fbc768028c3e6ead51d9a200ddcb2ec858ae62844dcd1994729a8279be9b48f2"
  },
  "kernelspec": {
   "display_name": "Python 3.10.3 64-bit",
   "language": "python",
   "name": "python3"
  },
  "language_info": {
   "codemirror_mode": {
    "name": "ipython",
    "version": 3
   },
   "file_extension": ".py",
   "mimetype": "text/x-python",
   "name": "python",
   "nbconvert_exporter": "python",
   "pygments_lexer": "ipython3",
   "version": "3.10.3"
  },
  "orig_nbformat": 4,
  "vscode": {
   "interpreter": {
    "hash": "1cca9558bc5ad879ec93cc030b157d75f18267527c60932cecaace349eef54dd"
   }
  }
 },
 "nbformat": 4,
 "nbformat_minor": 2
}
